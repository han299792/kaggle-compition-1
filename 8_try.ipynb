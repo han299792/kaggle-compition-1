{
 "cells": [
  {
   "cell_type": "code",
   "execution_count": null,
   "metadata": {},
   "outputs": [],
   "source": [
    "import optuna\n",
    "from xgboost import XGBRegressor\n",
    "from sklearn.metrics import mean_absolute_error\n",
    "from sklearn.model_selection import train_test_split\n",
    "\n",
    "# Train/Test 데이터 분할\n",
    "X_train, X_valid, y_train, y_valid = train_test_split(X_train_full, y_train_full, test_size=0.2, random_state=42)\n",
    "\n",
    "# Optuna 목적 함수 정의\n",
    "def objective(trial):\n",
    "    params = {\n",
    "        'n_estimators': trial.suggest_int('n_estimators', 250, 350),  # 기존 값 주변으로 범위 설정\n",
    "        'max_depth': trial.suggest_int('max_depth', 12, 18),         # 기존 값 주변\n",
    "        'learning_rate': trial.suggest_float('learning_rate', 0.05, 0.15),\n",
    "        'subsample': trial.suggest_float('subsample', 0.9, 1.0),\n",
    "        'colsample_bytree': trial.suggest_float('colsample_bytree', 0.9, 1.0),\n",
    "        'reg_alpha': trial.suggest_float('reg_alpha', 0.0, 10.0),    # 추가적으로 규제 항목 튜닝\n",
    "        'reg_lambda': trial.suggest_float('reg_lambda', 0.0, 10.0)\n",
    "    }\n",
    "    \n",
    "    # 모델 초기화\n",
    "    model = XGBRegressor(random_state=42, **params)\n",
    "    \n",
    "    # 학습 및 검증\n",
    "    model.fit(X_train, y_train)\n",
    "    y_pred = model.predict(X_valid)\n",
    "    mae = mean_absolute_error(y_valid, y_pred)\n",
    "    \n",
    "    return mae  # MAE를 최소화\n",
    "\n",
    "# Optuna 실행\n",
    "study = optuna.create_study(direction='minimize')\n",
    "study.optimize(objective, n_trials=50)  # 50회 시도\n",
    "\n",
    "# 최적 파라미터 출력\n",
    "best_params = study.best_params\n",
    "print(\"Best Parameters from Optuna:\", best_params)\n",
    "\n",
    "# 최적 모델로 테스트 데이터 예측\n",
    "best_model = XGBRegressor(random_state=42, **best_params)\n",
    "best_model.fit(X_train_full, y_train_full)\n",
    "y_test_pred = best_model.predict(X_test)\n",
    "\n",
    "# 결과 저장\n",
    "result = pd.DataFrame({'id': test_data['id'], 'price': y_test_pred})\n",
    "result.to_csv('7_pred_optuna.csv', index=False)\n",
    "print(\"7_pred_optuna.csv 파일이 생성되었습니다.\")\n"
   ]
  }
 ],
 "metadata": {
  "kernelspec": {
   "display_name": "base",
   "language": "python",
   "name": "python3"
  },
  "language_info": {
   "name": "python",
   "version": "3.12.3"
  }
 },
 "nbformat": 4,
 "nbformat_minor": 2
}
