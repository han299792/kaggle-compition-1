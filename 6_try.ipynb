{
 "cells": [
  {
   "cell_type": "markdown",
   "metadata": {},
   "source": [
    "xgboosting, gradient boosting, ensangble 모델 비교"
   ]
  },
  {
   "cell_type": "code",
   "execution_count": 39,
   "metadata": {},
   "outputs": [],
   "source": [
    "import pandas as pd\n",
    "import numpy as np\n",
    "from sklearn.ensemble import RandomForestRegressor\n",
    "from xgboost import XGBRegressor\n",
    "from sklearn.metrics import mean_squared_error\n"
   ]
  },
  {
   "cell_type": "code",
   "execution_count": 40,
   "metadata": {},
   "outputs": [],
   "source": [
    "def convert_time_to_minutes(time_str): \n",
    "    hours, minutes = time_str.split('h')\n",
    "    hours = float(hours.strip()) \n",
    "    minutes = minutes.replace('m', '').strip()\n",
    "    minutes = int(minutes) if minutes else 0\n",
    "    total_minutes = int(round(hours * 60)) + minutes\n",
    "    return total_minutes\n",
    "\n",
    "def time_of_day(hour):\n",
    "    if 5 <= hour < 12:\n",
    "        return 'Morning'\n",
    "    elif 12 <= hour < 17:\n",
    "        return 'Afternoon'\n",
    "    elif 17 <= hour < 21:\n",
    "        return 'Evening'\n",
    "    else:\n",
    "        return 'Night'\n",
    "    \n",
    "reference_date = pd.to_datetime('2022-02-11')"
   ]
  },
  {
   "cell_type": "code",
   "execution_count": 41,
   "metadata": {},
   "outputs": [],
   "source": [
    "train_data = pd.read_csv('./gist-mldl24f-hw3/train.csv')\n",
    "\n",
    "train_data['date'] = pd.to_datetime(train_data['date'])\n",
    "train_data['num_code'] = train_data['num_code'].astype(str)\n",
    "train_data['time_taken'] = train_data['time_taken'].apply(convert_time_to_minutes)\n",
    "train_data['dep_time'] = pd.to_datetime(train_data['dep_time'], format='%H:%M')\n",
    "train_data['arr_time'] = pd.to_datetime(train_data['arr_time'], format='%H:%M')\n",
    "train_data['dep_time_period'] = train_data['dep_time'].dt.hour.apply(time_of_day)\n",
    "train_data['arr_time_period'] = train_data['arr_time'].dt.hour.apply(time_of_day)\n",
    "train_data['stop_num'] = train_data['stop'].str.split('-').str[0].map({\n",
    "    'non': 0,\n",
    "    '1': 1,\n",
    "    '2+': 2\n",
    "})\n",
    "train_data['days_since'] = (pd.to_datetime(train_data['date']) - reference_date).dt.days\n",
    "train_data['day_of_week'] = train_data['date'].dt.day_name()\n",
    "train_data['hour_dep'] = train_data['dep_time'].dt.hour\n",
    "train_data['hour_arr'] = train_data['arr_time'].dt.hour\n"
   ]
  },
  {
   "cell_type": "code",
   "execution_count": 47,
   "metadata": {},
   "outputs": [],
   "source": [
    "test_data = pd.read_csv('./gist-mldl24f-hw3/test.csv')\n",
    "test_data['date'] = pd.to_datetime(test_data['date'])\n",
    "test_data['num_code'] = test_data['num_code'].astype(str)\n",
    "test_data['time_taken'] = test_data['time_taken'].apply(convert_time_to_minutes)\n",
    "test_data['dep_time'] = pd.to_datetime(test_data['dep_time'], format='%H:%M')\n",
    "test_data['arr_time'] = pd.to_datetime(test_data['arr_time'], format='%H:%M')\n",
    "test_data['dep_time_period'] = test_data['dep_time'].dt.hour.apply(time_of_day)\n",
    "test_data['arr_time_period'] = test_data['arr_time'].dt.hour.apply(time_of_day)\n",
    "test_data['stop_num'] = test_data['stop'].str.split('-').str[0].map({\n",
    "    'non': 0,\n",
    "    '1': 1,\n",
    "    '2+': 2\n",
    "})\n",
    "test_data['days_since'] = (pd.to_datetime(test_data['date']) - reference_date).dt.days\n",
    "test_data['day_of_week'] = test_data['date'].dt.day_name()\n",
    "test_data['hour_dep'] = test_data['dep_time'].dt.hour\n",
    "test_data['hour_arr'] = test_data['arr_time'].dt.hour"
   ]
  },
  {
   "cell_type": "code",
   "execution_count": 43,
   "metadata": {},
   "outputs": [],
   "source": [
    "cat_predictors = ['airline', 'from', 'to', 'class', 'dep_time_period', 'arr_time_period', 'day_of_week']\n",
    "num_predictors = ['time_taken', 'days_since','stop_num', 'hour_dep', 'hour_arr']\n"
   ]
  },
  {
   "cell_type": "code",
   "execution_count": null,
   "metadata": {},
   "outputs": [
    {
     "name": "stdout",
     "output_type": "stream",
     "text": [
      "1376.466003304934 917.8535481792303 1092.8635966811619\n",
      "best_model_pred.csv 파일이 생성되었습니다.\n"
     ]
    }
   ],
   "source": [
    "from sklearn.ensemble import GradientBoostingRegressor\n",
    "from sklearn.ensemble import RandomForestRegressor\n",
    "from xgboost import XGBRegressor\n",
    "from sklearn.metrics import mean_absolute_error\n",
    "import pandas as pd\n",
    "\n",
    "# 카테고리형 변수와 수치형 변수에 대한 One-Hot Encoding 및 데이터 준비\n",
    "X_cat_train = pd.get_dummies(train_data[cat_predictors], drop_first=True)\n",
    "X_num_train = train_data[num_predictors]\n",
    "X_train = pd.concat([X_num_train, X_cat_train], axis=1)\n",
    "y_train = train_data['price']\n",
    "\n",
    "# 테스트 데이터에 대해 동일하게 처리\n",
    "X_cat_test = pd.get_dummies(test_data[cat_predictors], drop_first=True)\n",
    "X_num_test = test_data[num_predictors]\n",
    "X_test = pd.concat([X_num_test, X_cat_test], axis=1)\n",
    "X_test = X_test.reindex(columns=X_train.columns, fill_value=0)\n",
    "\n",
    "# 1. Gradient Boosting 모델\n",
    "gb_model = GradientBoostingRegressor(n_estimators=100, max_depth=10, random_state=0)\n",
    "gb_model.fit(X_train, y_train)\n",
    "y_pred_gb = gb_model.predict(X_test)\n",
    "gb_mae = mean_absolute_error(y_train, gb_model.predict(X_train))  # 평가 지표 예시\n",
    "\n",
    "# 2. XGBoost 모델\n",
    "xgb_model = XGBRegressor(n_estimators=100, max_depth=10, random_state=0)\n",
    "xgb_model.fit(X_train, y_train)\n",
    "y_pred_xgb = xgb_model.predict(X_test)\n",
    "xgb_mae = mean_absolute_error(y_train, xgb_model.predict(X_train))  # 평가 지표 예시\n",
    "\n",
    "# 3. 앙상블 모델 (Gradient Boosting + XGBoost의 예측 평균)\n",
    "y_pred_ensemble = (y_pred_gb + y_pred_xgb) / 2\n",
    "ensemble_mae = mean_absolute_error(y_train, (gb_model.predict(X_train) + xgb_model.predict(X_train)) / 2)\n",
    "\n",
    "print(gb_mae,xgb_mae,ensemble_mae)\n",
    "\n",
    "best_model = min([(y_pred_gb, gb_mae), (y_pred_xgb, xgb_mae), (y_pred_ensemble, ensemble_mae)], key=lambda x: x[1])\n",
    "y_pred_best = best_model[0]\n",
    "\n",
    "# 결과 DataFrame 생성 및 CSV 파일로 저장\n",
    "result = pd.DataFrame({'id': test_data['id'], 'price': y_pred_best})\n",
    "result.to_csv('best_model_pred.csv', index=False)\n",
    "print(\"best_model_pred.csv 파일이 생성되었습니다.\")\n"
   ]
  },
  {
   "cell_type": "code",
   "execution_count": 45,
   "metadata": {},
   "outputs": [
    {
     "name": "stdout",
     "output_type": "stream",
     "text": [
      "id                 0\n",
      "date               0\n",
      "airline            0\n",
      "ch_code            0\n",
      "num_code           0\n",
      "dep_time           0\n",
      "from               0\n",
      "time_taken         0\n",
      "stop               0\n",
      "arr_time           0\n",
      "to                 0\n",
      "class              0\n",
      "price              0\n",
      "dep_time_period    0\n",
      "arr_time_period    0\n",
      "stop_num           0\n",
      "days_since         0\n",
      "day_of_week        0\n",
      "hour_dep           0\n",
      "hour_arr           0\n",
      "dtype: int64\n"
     ]
    }
   ],
   "source": [
    "print(train_data.isna().sum())\n"
   ]
  },
  {
   "cell_type": "code",
   "execution_count": 46,
   "metadata": {},
   "outputs": [
    {
     "name": "stdout",
     "output_type": "stream",
     "text": [
      "id                    0\n",
      "date                  0\n",
      "airline               0\n",
      "ch_code               0\n",
      "num_code              0\n",
      "dep_time              0\n",
      "from                  0\n",
      "time_taken            0\n",
      "stop                  0\n",
      "arr_time              0\n",
      "to                    0\n",
      "class                 0\n",
      "dep_time_period       0\n",
      "arr_time_period       0\n",
      "stop_num           1315\n",
      "days_since            0\n",
      "day_of_week           0\n",
      "hour_dep              0\n",
      "hour_arr              0\n",
      "dtype: int64\n"
     ]
    }
   ],
   "source": [
    "print(test_data.isna().sum())\n"
   ]
  },
  {
   "cell_type": "code",
   "execution_count": null,
   "metadata": {},
   "outputs": [],
   "source": []
  }
 ],
 "metadata": {
  "kernelspec": {
   "display_name": "base",
   "language": "python",
   "name": "python3"
  },
  "language_info": {
   "codemirror_mode": {
    "name": "ipython",
    "version": 3
   },
   "file_extension": ".py",
   "mimetype": "text/x-python",
   "name": "python",
   "nbconvert_exporter": "python",
   "pygments_lexer": "ipython3",
   "version": "3.12.3"
  }
 },
 "nbformat": 4,
 "nbformat_minor": 2
}
